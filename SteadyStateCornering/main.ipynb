{
 "cells": [
  {
   "cell_type": "markdown",
   "metadata": {},
   "source": [
    " \n",
    " # Steady State Cornering Example\n",
    " \\begin{equation}\\label{eq:DynamicBicycleModel}\n",
    "        \\begin{aligned}\n",
    "            \\dot v_x &=  \\frac{1}{m}\\big(F_{x}^r \\text{cos}(\\delta^r)-F_{y}^r \\text{sin}(\\delta^r)-F_{y}^f \\text{sin}(\\delta^f)\\big) + \\omega_z v_y \\\\\n",
    "            \\dot v_y &= \\frac{1}{m}\\big (F_{y}^f\\text{cos}(\\delta^f) + F_{y}^r \\text{cos}(\\delta^r)+F_{x}^r \\text{sin}(\\delta^r) \\big) - \\omega_z v_x \\\\\n",
    "            \\dot \\omega_z &= \\frac{1}{I_z} \\big(l_f F_{y}^f \\text{cos}(\\delta^f) - l_r F_{y}^r \\text{cos}(\\delta^r) - l_r  F_{x}^r \\text{sin}(\\delta^r) \\big) \\\\\n",
    "            \\dot X &= v_x \\text{cos}(\\psi) - v_y \\text{sin}(\\psi)  \\\\\n",
    "        \\dot Y &= v_x \\text{sin}(\\psi) + v_y \\text{cos}(\\psi)  \\\\\n",
    "        \\dot \\psi &= \\omega_z  \\\\\n",
    "        \\end{aligned}\n",
    "    \\end{equation}"
   ]
  },
  {
   "cell_type": "code",
   "execution_count": 3,
   "metadata": {},
   "outputs": [],
   "source": [
    "import numpy as np\n",
    "#from scipy.integrate import odeint\n",
    "import matplotlib.pyplot as plt\n",
    "import matplotlib.patches as patches\n",
    "from matplotlib import animation\n",
    "from IPython.display import display\n",
    "from ipywidgets import interactive, fixed\n",
    "\n",
    "# This function simulates the one-step  vehicle dynamics\n",
    "def _DynModel(x, u, deltaT,constantvx):\n",
    "\n",
    "    x_next= np.zeros(6)\n",
    "    # Vehicle Parameters BARC\n",
    "    m  = 1.98\n",
    "    lf = 0.125\n",
    "    lr = 0.125\n",
    "    Iz = 0.024\n",
    "    Df = 0.8 * m * 9.81 / 2.0\n",
    "    Cf = 1.25\n",
    "    Bf = 1.0\n",
    "    Dr = 0.8 * m * 9.81 / 2.0\n",
    "    Cr = 1.25\n",
    "    Br = 1.0\n",
    "\n",
    "    # # Vehicle Parameters {Passsenger car}\n",
    "    m=2300 # in Kg\n",
    "    Iz=4400\n",
    "    lf=1.5 #length from CoG to front axle in meters\n",
    "    lr=1.4 #length from CoG to back axle in meters\n",
    "    lf=1.5 #length from CoG to front axle in meters\n",
    "    lr=1.4 #length from CoG to back axle in meters\n",
    "    #TIRE MODEL\n",
    "    Fz = (1/2)*(m*9.81)/1000; #force in K-newtons\n",
    "    a1 = -22.1\n",
    "    a2 = 1011\n",
    "    a3 = 1078\n",
    "    a4 = 1.82\n",
    "    a5 = 0.208\n",
    "    a6 = 0.000\n",
    "    a7 = -0.354\n",
    "    a8 = 0.707;\n",
    "    Df = a1*(Fz*Fz) + a2*Fz\n",
    "    BCD = a3*np.sin(a4*np.arctan(a5*Fz))\n",
    "    Cf = 1.30;\n",
    "    Bf = BCD/(Cf*Df)\n",
    "    #Ef = a6*(Fz^2) + a7*Fz + a8;\n",
    "    Dr=Df\n",
    "    Cr=Cf\n",
    "    Br=Bf\n",
    "\n",
    "    # Extract the value of the inputs and states\n",
    "    delta = u[0]\n",
    "    a     = u[1]\n",
    "    if constantvx > 0:\n",
    "        vx = constantvx\n",
    "    else:\n",
    "        vx    = x[0]\n",
    "    vy    = x[1]\n",
    "    wz    = x[2]\n",
    "    psi   = x[3]\n",
    "    X     = x[4]\n",
    "    Y     = x[5]\n",
    "\n",
    "    # Compute tire slip angle\n",
    "    alpha_f = delta - np.arctan2( vy + lf * wz, vx )\n",
    "    alpha_r = - np.arctan2( vy - lf * wz , vx)\n",
    "\n",
    "    # Compute lateral force at front and rear tire\n",
    "    Fyf = 2 * Df * np.sin( Cf * np.arctan(Bf * alpha_f ) )\n",
    "    Fyr = 2 * Dr * np.sin( Cr * np.arctan(Br * alpha_r ) )\n",
    "\n",
    "    # Propagate the dynamics\n",
    "    if constantvx>0:\n",
    "        x_next[0] = constantvx\n",
    "    else:\n",
    "        x_next[0] = vx  + deltaT * (a - 1 / m * Fyf * np.sin(delta) + wz*vy)\n",
    "    x_next[1] = vy  + deltaT * (1 / m * (Fyf * np.cos(delta) + Fyr) - wz * vx)\n",
    "    x_next[2] = wz  + deltaT * (1 / Iz *(lf * Fyf * np.cos(delta) - lr * Fyr) )\n",
    "    x_next[3] = psi + deltaT * (wz)\n",
    "    x_next[4] =   X + deltaT * ((vx * np.cos(psi) - vy * np.sin(psi)))\n",
    "    x_next[5] =   Y + deltaT * (vx * np.sin(psi)  + vy * np.cos(psi))\n",
    "\n",
    "    # Addd Noises\n",
    "    #noise_vx = np.maximum(-0.05, np.minimum(np.random.randn() * 0.01, 0.05))\n",
    "    #noise_vy = np.maximum(-0.1, np.minimum(np.random.randn() * 0.01, 0.1))\n",
    "    #noise_wz = np.maximum(-0.05, np.minimum(np.random.randn() * 0.005, 0.05))\n",
    "    #x_next[0] = x_next[0] + 0.1*noise_vx\n",
    "    #x_next[1] = x_next[1] + 0.1*noise_vy\n",
    "    #x_next[2] = x_next[2] + 0.1*noise_wz\n",
    "\n",
    "    return x_next,alpha_f,alpha_r"
   ]
  },
  {
   "cell_type": "code",
   "execution_count": 10,
   "metadata": {},
   "outputs": [
    {
     "data": {
      "application/vnd.jupyter.widget-view+json": {
       "model_id": "3fcc07918f4d4979b09a10db32a18417",
       "version_major": 2,
       "version_minor": 0
      },
      "text/plain": [
       "interactive(children=(FloatSlider(value=0.0, description='constantsteering', max=20.0, min=-20.0), FloatSlider…"
      ]
     },
     "metadata": {},
     "output_type": "display_data"
    }
   ],
   "source": [
    "def sim(constantsteering,constantvx):\n",
    "    # Sampling time\n",
    "    deltaT = 0.01\n",
    "    # Simulation steps\n",
    "    Tsim=100\n",
    "    simSteps=int(Tsim/deltaT)\n",
    "\n",
    "    # initialization\n",
    "    x= np.zeros((simSteps,6))\n",
    "    u= np.zeros((simSteps,2))\n",
    "    alpha_f= np.zeros(simSteps)\n",
    "    alpha_r= np.zeros(simSteps)\n",
    "    x[0, :]=[0,0,0,0,0,0]\n",
    "\n",
    "    # simulate system\n",
    "    for t in range(0,simSteps-1):\n",
    "        u[t, :] = [constantsteering * np.pi / 180, 0]\n",
    "        x[t + 1, :], alpha_f[t], alpha_r[t] = _DynModel(x[t, :], u[t, :],deltaT,constantvx)\n",
    "\n",
    "    # plot results\n",
    "    plt.figure(1)\n",
    "    plt.plot(x[:,4],x[:,5],'-',linewidth=2,label='CarTrajectory'+'_try:'+str(constantvx))\n",
    "    plt.xlabel('X')\n",
    "    plt.ylabel('Y')\n",
    "    plt.legend()\n",
    "    plt.figure(2)\n",
    "    plt.plot(alpha_f,'-',linewidth=2,label='alpha_f'+'_try:'+str(constantvx))\n",
    "    plt.plot(alpha_r,'-',linewidth=2,label='alpha_r'+'_try:'+str(constantvx))\n",
    "    plt.xlabel('time')\n",
    "    plt.ylabel('alpha')\n",
    "    plt.legend()\n",
    "    #plt.show()\n",
    "    return x,u,simSteps\n",
    "    \n",
    "w=interactive(sim,constantsteering=(-20.0,20.0),constantvx=(0.0,3.0))\n",
    "display(w)"
   ]
  },
  {
   "cell_type": "code",
   "execution_count": 12,
   "metadata": {},
   "outputs": [
    {
     "ename": "RuntimeError",
     "evalue": "Requested MovieWriter (ffmpeg) not available",
     "output_type": "error",
     "traceback": [
      "\u001b[1;31m---------------------------------------------------------------------------\u001b[0m",
      "\u001b[1;31mKeyError\u001b[0m                                  Traceback (most recent call last)",
      "\u001b[1;32m~\\Anaconda3\\lib\\site-packages\\matplotlib\\animation.py\u001b[0m in \u001b[0;36m__getitem__\u001b[1;34m(self, name)\u001b[0m\n\u001b[0;32m    160\u001b[0m         \u001b[1;32mtry\u001b[0m\u001b[1;33m:\u001b[0m\u001b[1;33m\u001b[0m\u001b[1;33m\u001b[0m\u001b[0m\n\u001b[1;32m--> 161\u001b[1;33m             \u001b[1;32mreturn\u001b[0m \u001b[0mself\u001b[0m\u001b[1;33m.\u001b[0m\u001b[0mavail\u001b[0m\u001b[1;33m[\u001b[0m\u001b[0mname\u001b[0m\u001b[1;33m]\u001b[0m\u001b[1;33m\u001b[0m\u001b[1;33m\u001b[0m\u001b[0m\n\u001b[0m\u001b[0;32m    162\u001b[0m         \u001b[1;32mexcept\u001b[0m \u001b[0mKeyError\u001b[0m\u001b[1;33m:\u001b[0m\u001b[1;33m\u001b[0m\u001b[1;33m\u001b[0m\u001b[0m\n",
      "\u001b[1;31mKeyError\u001b[0m: 'ffmpeg'",
      "\nDuring handling of the above exception, another exception occurred:\n",
      "\u001b[1;31mRuntimeError\u001b[0m                              Traceback (most recent call last)",
      "\u001b[1;32m<ipython-input-12-a1047b1c47ca>\u001b[0m in \u001b[0;36m<module>\u001b[1;34m\u001b[0m\n\u001b[0;32m     45\u001b[0m \u001b[1;33m\u001b[0m\u001b[0m\n\u001b[0;32m     46\u001b[0m \u001b[1;33m\u001b[0m\u001b[0m\n\u001b[1;32m---> 47\u001b[1;33m \u001b[0manimation_xy\u001b[0m\u001b[1;33m(\u001b[0m\u001b[0mx\u001b[0m\u001b[1;33m,\u001b[0m\u001b[0mu\u001b[0m\u001b[1;33m,\u001b[0m\u001b[0msimSteps\u001b[0m\u001b[1;33m)\u001b[0m\u001b[1;33m\u001b[0m\u001b[1;33m\u001b[0m\u001b[0m\n\u001b[0m",
      "\u001b[1;32m<ipython-input-12-a1047b1c47ca>\u001b[0m in \u001b[0;36manimation_xy\u001b[1;34m(x, u, simSteps)\u001b[0m\n\u001b[0;32m     41\u001b[0m     \u001b[1;31m# http://matplotlib.sourceforge.net/api/animation_api.html\u001b[0m\u001b[1;33m\u001b[0m\u001b[1;33m\u001b[0m\u001b[1;33m\u001b[0m\u001b[0m\n\u001b[0;32m     42\u001b[0m     \u001b[1;31m#anim.save('basic_animation.mp4', fps=30, extra_args=['-vcodec', 'libx264'])\u001b[0m\u001b[1;33m\u001b[0m\u001b[1;33m\u001b[0m\u001b[1;33m\u001b[0m\u001b[0m\n\u001b[1;32m---> 43\u001b[1;33m     \u001b[0mHTML\u001b[0m\u001b[1;33m(\u001b[0m\u001b[0manim\u001b[0m\u001b[1;33m.\u001b[0m\u001b[0mto_html5_video\u001b[0m\u001b[1;33m(\u001b[0m\u001b[1;33m)\u001b[0m\u001b[1;33m)\u001b[0m\u001b[1;33m\u001b[0m\u001b[1;33m\u001b[0m\u001b[0m\n\u001b[0m\u001b[0;32m     44\u001b[0m     \u001b[0mplt\u001b[0m\u001b[1;33m.\u001b[0m\u001b[0mshow\u001b[0m\u001b[1;33m(\u001b[0m\u001b[1;33m)\u001b[0m\u001b[1;33m\u001b[0m\u001b[1;33m\u001b[0m\u001b[0m\n\u001b[0;32m     45\u001b[0m \u001b[1;33m\u001b[0m\u001b[0m\n",
      "\u001b[1;32m~\\Anaconda3\\lib\\site-packages\\matplotlib\\animation.py\u001b[0m in \u001b[0;36mto_html5_video\u001b[1;34m(self, embed_limit)\u001b[0m\n\u001b[0;32m   1324\u001b[0m                 \u001b[1;31m# We create a writer manually so that we can get the\u001b[0m\u001b[1;33m\u001b[0m\u001b[1;33m\u001b[0m\u001b[1;33m\u001b[0m\u001b[0m\n\u001b[0;32m   1325\u001b[0m                 \u001b[1;31m# appropriate size for the tag\u001b[0m\u001b[1;33m\u001b[0m\u001b[1;33m\u001b[0m\u001b[1;33m\u001b[0m\u001b[0m\n\u001b[1;32m-> 1326\u001b[1;33m                 \u001b[0mWriter\u001b[0m \u001b[1;33m=\u001b[0m \u001b[0mwriters\u001b[0m\u001b[1;33m[\u001b[0m\u001b[0mrcParams\u001b[0m\u001b[1;33m[\u001b[0m\u001b[1;34m'animation.writer'\u001b[0m\u001b[1;33m]\u001b[0m\u001b[1;33m]\u001b[0m\u001b[1;33m\u001b[0m\u001b[1;33m\u001b[0m\u001b[0m\n\u001b[0m\u001b[0;32m   1327\u001b[0m                 writer = Writer(codec='h264',\n\u001b[0;32m   1328\u001b[0m                                 \u001b[0mbitrate\u001b[0m\u001b[1;33m=\u001b[0m\u001b[0mrcParams\u001b[0m\u001b[1;33m[\u001b[0m\u001b[1;34m'animation.bitrate'\u001b[0m\u001b[1;33m]\u001b[0m\u001b[1;33m,\u001b[0m\u001b[1;33m\u001b[0m\u001b[1;33m\u001b[0m\u001b[0m\n",
      "\u001b[1;32m~\\Anaconda3\\lib\\site-packages\\matplotlib\\animation.py\u001b[0m in \u001b[0;36m__getitem__\u001b[1;34m(self, name)\u001b[0m\n\u001b[0;32m    162\u001b[0m         \u001b[1;32mexcept\u001b[0m \u001b[0mKeyError\u001b[0m\u001b[1;33m:\u001b[0m\u001b[1;33m\u001b[0m\u001b[1;33m\u001b[0m\u001b[0m\n\u001b[0;32m    163\u001b[0m             raise RuntimeError(\n\u001b[1;32m--> 164\u001b[1;33m                 'Requested MovieWriter ({}) not available'.format(name))\n\u001b[0m\u001b[0;32m    165\u001b[0m \u001b[1;33m\u001b[0m\u001b[0m\n\u001b[0;32m    166\u001b[0m \u001b[1;33m\u001b[0m\u001b[0m\n",
      "\u001b[1;31mRuntimeError\u001b[0m: Requested MovieWriter (ffmpeg) not available"
     ]
    },
    {
     "data": {
      "image/png": "[encoded data removed]",
      "text/plain": [
       "<Figure size 432x288 with 1 Axes>"
      ]
     },
     "metadata": {
      "needs_background": "light"
     },
     "output_type": "display_data"
    },
    {
     "data": {
      "image/png": "[encoded data removed]",
      "text/plain": [
       "<Figure size 432x288 with 1 Axes>"
      ]
     },
     "metadata": {
      "needs_background": "light"
     },
     "output_type": "display_data"
    },
    {
     "data": {
      "image/png": "[encoded data removed]",
      "text/plain": [
       "<Figure size 432x288 with 1 Axes>"
      ]
     },
     "metadata": {
      "needs_background": "light"
     },
     "output_type": "display_data"
    }
   ],
   "source": [
    "x,u,simSteps=sim(7,1)\n",
    "from IPython.display import HTML\n",
    "def animation_xy(x,u,simSteps):\n",
    "    # for infor read: https: // jakevdp.github.io / blog / 2013 / 05 / 28 / a - simple - animation - the - magic - triangle /\n",
    "    P1 = np.array([[1, 1], [1,-1], [-1, -1], [-1, 1]])\n",
    "    fig=plt.figure()\n",
    "    ax = plt.axes(xlim=(-30, 30), ylim=(-10, 50))\n",
    "    plt.plot(x[:,4],x[:,5],'--',linewidth=0.5)\n",
    "    kwds = dict(ec='k', alpha=0.7, closed=True,zorder=10)\n",
    "    rec = [ax.add_patch(plt.Polygon(0 * P1, fc='g', **kwds)),\n",
    "                          ax.add_patch(plt.Polygon(0 * P1, fc='b', **kwds))]\n",
    "\n",
    "    l = 3; w = 1.5\n",
    "\n",
    "    def animate(t):\n",
    "        t=t*20 #speedup animation\n",
    "        if t<simSteps:\n",
    "            lw=0.4\n",
    "            ww=0.1\n",
    "            psi   = x[t,3]\n",
    "            X     = x[t,4]\n",
    "            Y     = x[t,5]\n",
    "            delta = u[t,0]\n",
    "            car_x = [ X + l * np.cos(psi) - w * np.sin(psi), X + l*np.cos(psi) + w * np.sin(psi),\n",
    "                      X - l * np.cos(psi) + w * np.sin(psi), X - l * np.cos(psi) - w * np.sin(psi)]\n",
    "            car_y = [ Y + l * np.sin(psi) + w * np.cos(psi), Y + l * np.sin(psi) - w * np.cos(psi),\n",
    "                      Y - l * np.sin(psi) - w * np.cos(psi), Y - l * np.sin(psi) + w * np.cos(psi)]\n",
    "            lfwheel_x = [ car_x[0] + lw * np.cos(psi+delta) - ww * np.sin(psi+delta), car_x[0]+ lw*np.cos(psi+delta) + ww * np.sin(psi+delta),\n",
    "                      car_x[0] - lw * np.cos(psi+delta) + ww * np.sin(psi+delta), car_x[0] - lw * np.cos(psi+delta) - ww * np.sin(psi+delta)]\n",
    "            lfwheel_y = [car_y[0] + lw * np.sin(psi+delta) + ww * np.cos(psi+delta), car_y[0] + lw * np.sin(psi+delta) - ww * np.cos(psi+delta),\n",
    "                     car_y[0] - lw * np.sin(psi+delta) - ww * np.cos(psi+delta), car_y[0] - lw * np.sin(psi+delta) + ww * np.cos(psi+delta)]\n",
    "\n",
    "            rec[0].set_xy(np.array([car_x, car_y]).T)\n",
    "            rec[1].set_xy(np.array([lfwheel_x, lfwheel_y ]).T)\n",
    "        return rec\n",
    "    anim = animation.FuncAnimation(fig, animate, frames=simSteps, interval=1)\n",
    "    # save the animation as an mp4.  This requires ffmpeg or mencoder to be\n",
    "    # installed.  The extra_args ensure that the x264 codec is used, so that\n",
    "    # the video can be embedded in html5.  You may need to adjust this for\n",
    "    # your system: for more information, see\n",
    "    # http://matplotlib.sourceforge.net/api/animation_api.html\n",
    "    #anim.save('basic_animation.mp4', fps=30, extra_args=['-vcodec', 'libx264'])\n",
    "    HTML(anim.to_html5_video())\n",
    "    plt.show()\n",
    "\n",
    "\n",
    "animation_xy(x,u,simSteps)"
   ]
  },
  {
   "cell_type": "code",
   "execution_count": null,
   "metadata": {},
   "outputs": [],
   "source": []
  },
  {
   "cell_type": "code",
   "execution_count": null,
   "metadata": {},
   "outputs": [],
   "source": []
  }
 ],
 "metadata": {
  "kernelspec": {
   "display_name": "Python 3",
   "language": "python",
   "name": "python3"
  },
  "language_info": {
   "codemirror_mode": {
    "name": "ipython",
    "version": 3
   },
   "file_extension": ".py",
   "mimetype": "text/x-python",
   "name": "python",
   "nbconvert_exporter": "python",
   "pygments_lexer": "ipython3",
   "version": "3.7.7"
  }
 },
 "nbformat": 4,
 "nbformat_minor": 4
}
