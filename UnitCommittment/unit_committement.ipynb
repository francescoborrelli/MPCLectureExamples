{
 "cells": [
  {
   "cell_type": "code",
   "execution_count": 1,
   "metadata": {},
   "outputs": [],
   "source": [
    "#!/usr/bin/env python3\n",
    "# -*- coding: utf-8 -*-\n",
    "\"\"\"\n",
    "Created on Wed Apr 15 13:31:51 2020\n",
    "\n",
    "@author: vallon2\n",
    "\"\"\"\n",
    "\n",
    "import matplotlib.pyplot as plt\n",
    "import numpy as np\n",
    "import pyomo.environ as pyo\n",
    "\n",
    "Horizon = 48\n",
    "T = np.array([t for t in range(0, Horizon)])\n",
    "d = np.array([100 + 50*np.sin(t*2*np.pi/24) for t in T])\n",
    "\n",
    "N = 3\n",
    "N = np.array([n for n in range(0, N)])\n",
    "\n",
    "pmax = [100, 50, 25]\n",
    "pmin = [20, 40, 1]\n",
    "Q = [0.04, 0.01, 0.02]\n",
    "C = [10, 20, 20]"
   ]
  },
  {
   "cell_type": "code",
   "execution_count": null,
   "metadata": {},
   "outputs": [],
   "source": []
  },
  {
   "cell_type": "code",
   "execution_count": 4,
   "metadata": {},
   "outputs": [
    {
     "name": "stdout",
     "output_type": "stream",
     "text": [
      "Using license file C:\\Users\\frbor\\gurobi.lic\n",
      "Academic license - for non-commercial use only\n",
      "# ==========================================================\n",
      "# = Solver Results                                         =\n",
      "# ==========================================================\n",
      "# ----------------------------------------------------------\n",
      "#   Problem Information\n",
      "# ----------------------------------------------------------\n",
      "Problem: \n",
      "- Name: unknown\n",
      "  Lower bound: 70257.53537648752\n",
      "  Upper bound: 70257.53537648749\n",
      "  Number of objectives: 1\n",
      "  Number of constraints: 480\n",
      "  Number of variables: 288\n",
      "  Number of binary variables: 144\n",
      "  Number of integer variables: 144\n",
      "  Number of continuous variables: 0\n",
      "  Number of nonzeros: 864\n",
      "  Sense: 1\n",
      "  Number of solutions: 2\n",
      "# ----------------------------------------------------------\n",
      "#   Solver Information\n",
      "# ----------------------------------------------------------\n",
      "Solver: \n",
      "- Name: Gurobi 9.02\n",
      "  Status: ok\n",
      "  Wallclock time: 0.013835906982421875\n",
      "  Termination condition: optimal\n",
      "  Termination message: Model was solved to optimality (subject to tolerances), and an optimal solution is available.\n",
      "# ----------------------------------------------------------\n",
      "#   Solution Information\n",
      "# ----------------------------------------------------------\n",
      "Solution: \n",
      "- number of solutions: 0\n",
      "  number of solutions displayed: 0\n"
     ]
    },
    {
     "data": {
      "image/png": "[encoded data removed]",
      "text/plain": [
       "<Figure size 432x288 with 1 Axes>"
      ]
     },
     "metadata": {
      "needs_background": "light"
     },
     "output_type": "display_data"
    }
   ],
   "source": [
    "m = pyo.ConcreteModel()\n",
    "m.N = pyo.Set(initialize=N)\n",
    "m.T = pyo.Set(initialize=T)\n",
    "\n",
    "m.x = pyo.Var(m.N, m.T, bounds = (0, max(pmax)))\n",
    "def xConstr(m,n,t):\n",
    "    return m.x[n,t]<=pmax[n]\n",
    "m.x_constr = pyo.Constraint(m.N, m.T, rule=xConstr)\n",
    "\n",
    "m.u = pyo.Var(m.N, m.T, domain=pyo.Binary)\n",
    "\n",
    "# objective\n",
    "m.cost = pyo.Objective(expr = sum(m.x[n,t]*m.x[n,t]*Q[n] + m.x[n,t]*C[n] for t in m.T for n in m.N), sense=pyo.minimize)\n",
    "\n",
    "# demand\n",
    "m.demand = pyo.Constraint(m.T, rule=lambda m, t: sum(m.x[n,t] for n in N) >= d[t])\n",
    "\n",
    "# constraints\n",
    "m.lb = pyo.Constraint(m.N, m.T, rule=lambda m, n, t: pmin[n]*m.u[n,t] <= m.x[n,t])\n",
    "m.ub = pyo.Constraint(m.N, m.T, rule=lambda m, n, t: pmax[n]*m.u[n,t] >= m.x[n,t])\n",
    "   \n",
    "# solve\n",
    "pyo.SolverFactory('gurobi', solver_io='python').solve(m).write()\n",
    "\n",
    "# plot results\n",
    "Unit1=[pyo.value(m.x[0,0])]\n",
    "Unit2 = [pyo.value(m.x[1,0])]\n",
    "Unit3 = [pyo.value(m.x[2,0])]\n",
    "for t in T:\n",
    "    Unit1.append(pyo.value(m.x[0,t]))\n",
    "    Unit2.append(pyo.value(m.x[1,t]))\n",
    "    Unit3.append(pyo.value(m.x[2,t]))\n",
    "plt.figure()\n",
    "plt.step(Unit1,'b')\n",
    "plt.step(Unit2,'g')\n",
    "plt.step(Unit3,'r')\n",
    "plt.show()"
   ]
  },
  {
   "cell_type": "code",
   "execution_count": null,
   "metadata": {},
   "outputs": [],
   "source": []
  },
  {
   "cell_type": "code",
   "execution_count": null,
   "metadata": {},
   "outputs": [],
   "source": []
  },
  {
   "cell_type": "code",
   "execution_count": null,
   "metadata": {},
   "outputs": [],
   "source": []
  }
 ],
 "metadata": {
  "kernelspec": {
   "display_name": "Python 3",
   "language": "python",
   "name": "python3"
  },
  "language_info": {
   "codemirror_mode": {
    "name": "ipython",
    "version": 3
   },
   "file_extension": ".py",
   "mimetype": "text/x-python",
   "name": "python",
   "nbconvert_exporter": "python",
   "pygments_lexer": "ipython3",
   "version": "3.7.7"
  }
 },
 "nbformat": 4,
 "nbformat_minor": 4
}
